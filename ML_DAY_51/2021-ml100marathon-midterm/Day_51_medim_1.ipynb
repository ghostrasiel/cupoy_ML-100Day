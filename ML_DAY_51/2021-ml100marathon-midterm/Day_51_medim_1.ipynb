{
 "cells": [
  {
   "cell_type": "code",
   "execution_count": 16,
   "id": "31005c0a",
   "metadata": {},
   "outputs": [],
   "source": [
    "from sklearn.model_selection import train_test_split \n",
    "from sklearn.preprocessing import MinMaxScaler , StandardScaler\n",
    "import pandas as pd\n",
    "import matplotlib.pyplot as plt\n",
    "import numpy as np"
   ]
  },
  {
   "cell_type": "code",
   "execution_count": 17,
   "id": "8ef59d04",
   "metadata": {},
   "outputs": [
    {
     "name": "stdout",
     "output_type": "stream",
     "text": [
      "train:(113, 22)\n",
      "test:(33, 21)\n",
      "label:(33, 2)\n"
     ]
    }
   ],
   "source": [
    "train  = pd.read_csv('./train_data.csv')\n",
    "test = pd.read_csv('./test_features.csv')\n",
    "label = pd.read_csv('./sample_submission.csv')\n",
    "print(f'train:{train.shape}')\n",
    "print(f'test:{test.shape}')\n",
    "print(f'label:{label.shape}')"
   ]
  },
  {
   "cell_type": "code",
   "execution_count": 18,
   "id": "a8fd27d4",
   "metadata": {},
   "outputs": [
    {
     "data": {
      "text/plain": [
       "0      1\n",
       "1      1\n",
       "2      1\n",
       "3      1\n",
       "4      1\n",
       "      ..\n",
       "108    0\n",
       "109    0\n",
       "110    0\n",
       "111    0\n",
       "112    0\n",
       "Name: poi, Length: 113, dtype: int64"
      ]
     },
     "execution_count": 18,
     "metadata": {},
     "output_type": "execute_result"
    }
   ],
   "source": [
    "train['poi'] = train['poi'].map(lambda x : 1 if x == True else 0)\n",
    "train['poi']"
   ]
  },
  {
   "cell_type": "code",
   "execution_count": 20,
   "id": "718b17dc",
   "metadata": {},
   "outputs": [
    {
     "name": "stdout",
     "output_type": "stream",
     "text": [
      "<class 'pandas.core.frame.DataFrame'>\n",
      "RangeIndex: 113 entries, 0 to 112\n",
      "Data columns (total 22 columns):\n",
      " #   Column                     Non-Null Count  Dtype  \n",
      "---  ------                     --------------  -----  \n",
      " 0   name                       113 non-null    object \n",
      " 1   bonus                      61 non-null     float64\n",
      " 2   deferral_payments          28 non-null     float64\n",
      " 3   deferred_income            34 non-null     float64\n",
      " 4   director_fees              13 non-null     float64\n",
      " 5   email_address              83 non-null     object \n",
      " 6   exercised_stock_options    81 non-null     float64\n",
      " 7   expenses                   73 non-null     float64\n",
      " 8   from_messages              65 non-null     float64\n",
      " 9   from_poi_to_this_person    65 non-null     float64\n",
      " 10  from_this_person_to_poi    65 non-null     float64\n",
      " 11  loan_advances              2 non-null      float64\n",
      " 12  long_term_incentive        49 non-null     float64\n",
      " 13  other                      69 non-null     float64\n",
      " 14  poi                        113 non-null    int64  \n",
      " 15  restricted_stock           82 non-null     float64\n",
      " 16  restricted_stock_deferred  10 non-null     float64\n",
      " 17  salary                     73 non-null     float64\n",
      " 18  shared_receipt_with_poi    65 non-null     float64\n",
      " 19  to_messages                65 non-null     float64\n",
      " 20  total_payments             96 non-null     float64\n",
      " 21  total_stock_value          98 non-null     float64\n",
      "dtypes: float64(19), int64(1), object(2)\n",
      "memory usage: 19.5+ KB\n"
     ]
    }
   ],
   "source": [
    "train.info()"
   ]
  },
  {
   "cell_type": "code",
   "execution_count": 50,
   "id": "33d45d19",
   "metadata": {},
   "outputs": [
    {
     "name": "stdout",
     "output_type": "stream",
     "text": [
      "fillna:['bonus', 'deferral_payments', 'deferred_income', 'director_fees', 'exercised_stock_options', 'expenses', 'from_messages', 'from_poi_to_this_person', 'from_this_person_to_poi', 'loan_advances', 'long_term_incentive', 'other', 'poi', 'restricted_stock', 'restricted_stock_deferred', 'salary', 'shared_receipt_with_poi', 'to_messages', 'total_payments', 'total_stock_value']\n",
      "fillna:20\n"
     ]
    }
   ],
   "source": [
    "columns =[]\n",
    "for i in train.columns:\n",
    "    if train[i].dtype in ['int64' , 'float64']:\n",
    "        train[i] = train[i].fillna(train[i].mean())\n",
    "        columns.append(i)\n",
    "print(f'fillna:{columns}')\n",
    "print(f'fillna:{len(columns)}')"
   ]
  },
  {
   "cell_type": "code",
   "execution_count": 53,
   "id": "fa09e0ab",
   "metadata": {},
   "outputs": [
    {
     "name": "stdout",
     "output_type": "stream",
     "text": [
      "<class 'pandas.core.frame.DataFrame'>\n",
      "RangeIndex: 113 entries, 0 to 112\n",
      "Data columns (total 22 columns):\n",
      " #   Column                     Non-Null Count  Dtype  \n",
      "---  ------                     --------------  -----  \n",
      " 0   name                       113 non-null    object \n",
      " 1   bonus                      113 non-null    float64\n",
      " 2   deferral_payments          113 non-null    float64\n",
      " 3   deferred_income            113 non-null    float64\n",
      " 4   director_fees              113 non-null    float64\n",
      " 5   email_address              83 non-null     object \n",
      " 6   exercised_stock_options    113 non-null    float64\n",
      " 7   expenses                   113 non-null    float64\n",
      " 8   from_messages              113 non-null    float64\n",
      " 9   from_poi_to_this_person    113 non-null    float64\n",
      " 10  from_this_person_to_poi    113 non-null    float64\n",
      " 11  loan_advances              113 non-null    float64\n",
      " 12  long_term_incentive        113 non-null    float64\n",
      " 13  other                      113 non-null    float64\n",
      " 14  poi                        113 non-null    int64  \n",
      " 15  restricted_stock           113 non-null    float64\n",
      " 16  restricted_stock_deferred  113 non-null    float64\n",
      " 17  salary                     113 non-null    float64\n",
      " 18  shared_receipt_with_poi    113 non-null    float64\n",
      " 19  to_messages                113 non-null    float64\n",
      " 20  total_payments             113 non-null    float64\n",
      " 21  total_stock_value          113 non-null    float64\n",
      "dtypes: float64(19), int64(1), object(2)\n",
      "memory usage: 19.5+ KB\n"
     ]
    }
   ],
   "source": [
    "train.info()"
   ]
  },
  {
   "cell_type": "code",
   "execution_count": 55,
   "id": "514c2f8a",
   "metadata": {},
   "outputs": [
    {
     "name": "stdout",
     "output_type": "stream",
     "text": [
      "<class 'pandas.core.frame.DataFrame'>\n",
      "RangeIndex: 113 entries, 0 to 112\n",
      "Data columns (total 19 columns):\n",
      " #   Column                     Non-Null Count  Dtype  \n",
      "---  ------                     --------------  -----  \n",
      " 0   bonus                      113 non-null    float64\n",
      " 1   deferral_payments          113 non-null    float64\n",
      " 2   deferred_income            113 non-null    float64\n",
      " 3   director_fees              113 non-null    float64\n",
      " 4   exercised_stock_options    113 non-null    float64\n",
      " 5   expenses                   113 non-null    float64\n",
      " 6   from_messages              113 non-null    float64\n",
      " 7   from_poi_to_this_person    113 non-null    float64\n",
      " 8   from_this_person_to_poi    113 non-null    float64\n",
      " 9   loan_advances              113 non-null    float64\n",
      " 10  long_term_incentive        113 non-null    float64\n",
      " 11  other                      113 non-null    float64\n",
      " 12  restricted_stock           113 non-null    float64\n",
      " 13  restricted_stock_deferred  113 non-null    float64\n",
      " 14  salary                     113 non-null    float64\n",
      " 15  shared_receipt_with_poi    113 non-null    float64\n",
      " 16  to_messages                113 non-null    float64\n",
      " 17  total_payments             113 non-null    float64\n",
      " 18  total_stock_value          113 non-null    float64\n",
      "dtypes: float64(19)\n",
      "memory usage: 16.9 KB\n"
     ]
    }
   ],
   "source": [
    "X = train.drop(['name' , 'email_address' , 'poi' ] , axis=1)\n",
    "y = train['poi']\n",
    "X.info()"
   ]
  },
  {
   "cell_type": "code",
   "execution_count": 64,
   "id": "9f5baaa4",
   "metadata": {},
   "outputs": [
    {
     "name": "stdout",
     "output_type": "stream",
     "text": [
      "0.8695652173913043\n"
     ]
    },
    {
     "data": {
      "text/plain": [
       "0.85"
      ]
     },
     "execution_count": 64,
     "metadata": {},
     "output_type": "execute_result"
    }
   ],
   "source": [
    "#先做最基礎的無修正資料看準確度\n",
    "from sklearn.ensemble import GradientBoostingClassifier\n",
    "from sklearn.metrics import accuracy_score\n",
    "from sklearn.model_selection import cross_val_score\n",
    "X_train , X_test , y_train , y_test = train_test_split(X , y , train_size=0.8 , random_state=1)\n",
    "model = GradientBoostingClassifier(n_estimators=100)\n",
    "model.fit(X_train , y_train)\n",
    "y_pred = model.predict(X_test)\n",
    "print(accuracy_score(y_test , y_pred))\n",
    "cross_val_score(model ,X , y , cv=10 , scoring='accuracy').mean()"
   ]
  },
  {
   "cell_type": "code",
   "execution_count": 65,
   "id": "db8b094b",
   "metadata": {
    "scrolled": true
   },
   "outputs": [
    {
     "data": {
      "text/html": [
       "<div>\n",
       "<style scoped>\n",
       "    .dataframe tbody tr th:only-of-type {\n",
       "        vertical-align: middle;\n",
       "    }\n",
       "\n",
       "    .dataframe tbody tr th {\n",
       "        vertical-align: top;\n",
       "    }\n",
       "\n",
       "    .dataframe thead th {\n",
       "        text-align: right;\n",
       "    }\n",
       "</style>\n",
       "<table border=\"1\" class=\"dataframe\">\n",
       "  <thead>\n",
       "    <tr style=\"text-align: right;\">\n",
       "      <th></th>\n",
       "      <th>name</th>\n",
       "      <th>poi</th>\n",
       "    </tr>\n",
       "  </thead>\n",
       "  <tbody>\n",
       "    <tr>\n",
       "      <th>0</th>\n",
       "      <td>BELDEN TIMOTHY N</td>\n",
       "      <td>0.007201</td>\n",
       "    </tr>\n",
       "    <tr>\n",
       "      <th>1</th>\n",
       "      <td>BOWEN JR RAYMOND M</td>\n",
       "      <td>0.903340</td>\n",
       "    </tr>\n",
       "    <tr>\n",
       "      <th>2</th>\n",
       "      <td>HANNON KEVIN P</td>\n",
       "      <td>0.572731</td>\n",
       "    </tr>\n",
       "    <tr>\n",
       "      <th>3</th>\n",
       "      <td>DELAINEY DAVID W</td>\n",
       "      <td>0.950927</td>\n",
       "    </tr>\n",
       "    <tr>\n",
       "      <th>4</th>\n",
       "      <td>CAUSEY RICHARD A</td>\n",
       "      <td>0.942402</td>\n",
       "    </tr>\n",
       "    <tr>\n",
       "      <th>5</th>\n",
       "      <td>HICKERSON GARY J</td>\n",
       "      <td>0.013530</td>\n",
       "    </tr>\n",
       "    <tr>\n",
       "      <th>6</th>\n",
       "      <td>FREVERT MARK A</td>\n",
       "      <td>0.275866</td>\n",
       "    </tr>\n",
       "    <tr>\n",
       "      <th>7</th>\n",
       "      <td>CHAN RONNIE</td>\n",
       "      <td>0.144731</td>\n",
       "    </tr>\n",
       "    <tr>\n",
       "      <th>8</th>\n",
       "      <td>DONAHUE JR JEFFREY M</td>\n",
       "      <td>0.388124</td>\n",
       "    </tr>\n",
       "    <tr>\n",
       "      <th>9</th>\n",
       "      <td>REYNOLDS LAWRENCE</td>\n",
       "      <td>0.032208</td>\n",
       "    </tr>\n",
       "    <tr>\n",
       "      <th>10</th>\n",
       "      <td>HORTON STANLEY C</td>\n",
       "      <td>0.300574</td>\n",
       "    </tr>\n",
       "    <tr>\n",
       "      <th>11</th>\n",
       "      <td>LEWIS RICHARD</td>\n",
       "      <td>0.616451</td>\n",
       "    </tr>\n",
       "    <tr>\n",
       "      <th>12</th>\n",
       "      <td>SHERRICK JEFFREY B</td>\n",
       "      <td>0.440055</td>\n",
       "    </tr>\n",
       "    <tr>\n",
       "      <th>13</th>\n",
       "      <td>MEYER JEROME J</td>\n",
       "      <td>0.657208</td>\n",
       "    </tr>\n",
       "    <tr>\n",
       "      <th>14</th>\n",
       "      <td>DERRICK JR. JAMES V</td>\n",
       "      <td>0.833014</td>\n",
       "    </tr>\n",
       "    <tr>\n",
       "      <th>15</th>\n",
       "      <td>PIRO JIM</td>\n",
       "      <td>0.413224</td>\n",
       "    </tr>\n",
       "    <tr>\n",
       "      <th>16</th>\n",
       "      <td>DETMERING TIMOTHY J</td>\n",
       "      <td>0.720923</td>\n",
       "    </tr>\n",
       "    <tr>\n",
       "      <th>17</th>\n",
       "      <td>KISHKILL JOSEPH G</td>\n",
       "      <td>0.904454</td>\n",
       "    </tr>\n",
       "    <tr>\n",
       "      <th>18</th>\n",
       "      <td>BAY FRANKLIN R</td>\n",
       "      <td>0.298674</td>\n",
       "    </tr>\n",
       "    <tr>\n",
       "      <th>19</th>\n",
       "      <td>PRENTICE JAMES</td>\n",
       "      <td>0.148842</td>\n",
       "    </tr>\n",
       "    <tr>\n",
       "      <th>20</th>\n",
       "      <td>TOTAL</td>\n",
       "      <td>0.351439</td>\n",
       "    </tr>\n",
       "    <tr>\n",
       "      <th>21</th>\n",
       "      <td>FALLON JAMES B</td>\n",
       "      <td>0.284129</td>\n",
       "    </tr>\n",
       "    <tr>\n",
       "      <th>22</th>\n",
       "      <td>METTS MARK</td>\n",
       "      <td>0.568772</td>\n",
       "    </tr>\n",
       "    <tr>\n",
       "      <th>23</th>\n",
       "      <td>WODRASKA JOHN</td>\n",
       "      <td>0.890761</td>\n",
       "    </tr>\n",
       "    <tr>\n",
       "      <th>24</th>\n",
       "      <td>MORDAUNT KRISTINA M</td>\n",
       "      <td>0.838412</td>\n",
       "    </tr>\n",
       "    <tr>\n",
       "      <th>25</th>\n",
       "      <td>CARTER REBECCA C</td>\n",
       "      <td>0.354295</td>\n",
       "    </tr>\n",
       "    <tr>\n",
       "      <th>26</th>\n",
       "      <td>BHATNAGAR SANJAY</td>\n",
       "      <td>0.581497</td>\n",
       "    </tr>\n",
       "    <tr>\n",
       "      <th>27</th>\n",
       "      <td>WALTERS GARETH W</td>\n",
       "      <td>0.686543</td>\n",
       "    </tr>\n",
       "    <tr>\n",
       "      <th>28</th>\n",
       "      <td>BIBI PHILIPPE A</td>\n",
       "      <td>0.200387</td>\n",
       "    </tr>\n",
       "    <tr>\n",
       "      <th>29</th>\n",
       "      <td>SHERRIFF JOHN R</td>\n",
       "      <td>0.117766</td>\n",
       "    </tr>\n",
       "    <tr>\n",
       "      <th>30</th>\n",
       "      <td>GIBBS DANA R</td>\n",
       "      <td>0.981511</td>\n",
       "    </tr>\n",
       "    <tr>\n",
       "      <th>31</th>\n",
       "      <td>LINDHOLM TOD A</td>\n",
       "      <td>0.863221</td>\n",
       "    </tr>\n",
       "    <tr>\n",
       "      <th>32</th>\n",
       "      <td>MCMAHON JEFFREY</td>\n",
       "      <td>0.912239</td>\n",
       "    </tr>\n",
       "  </tbody>\n",
       "</table>\n",
       "</div>"
      ],
      "text/plain": [
       "                    name       poi\n",
       "0       BELDEN TIMOTHY N  0.007201\n",
       "1     BOWEN JR RAYMOND M  0.903340\n",
       "2         HANNON KEVIN P  0.572731\n",
       "3       DELAINEY DAVID W  0.950927\n",
       "4       CAUSEY RICHARD A  0.942402\n",
       "5       HICKERSON GARY J  0.013530\n",
       "6         FREVERT MARK A  0.275866\n",
       "7            CHAN RONNIE  0.144731\n",
       "8   DONAHUE JR JEFFREY M  0.388124\n",
       "9      REYNOLDS LAWRENCE  0.032208\n",
       "10      HORTON STANLEY C  0.300574\n",
       "11         LEWIS RICHARD  0.616451\n",
       "12    SHERRICK JEFFREY B  0.440055\n",
       "13        MEYER JEROME J  0.657208\n",
       "14   DERRICK JR. JAMES V  0.833014\n",
       "15              PIRO JIM  0.413224\n",
       "16   DETMERING TIMOTHY J  0.720923\n",
       "17     KISHKILL JOSEPH G  0.904454\n",
       "18        BAY FRANKLIN R  0.298674\n",
       "19        PRENTICE JAMES  0.148842\n",
       "20                 TOTAL  0.351439\n",
       "21        FALLON JAMES B  0.284129\n",
       "22            METTS MARK  0.568772\n",
       "23         WODRASKA JOHN  0.890761\n",
       "24   MORDAUNT KRISTINA M  0.838412\n",
       "25      CARTER REBECCA C  0.354295\n",
       "26      BHATNAGAR SANJAY  0.581497\n",
       "27      WALTERS GARETH W  0.686543\n",
       "28       BIBI PHILIPPE A  0.200387\n",
       "29       SHERRIFF JOHN R  0.117766\n",
       "30          GIBBS DANA R  0.981511\n",
       "31        LINDHOLM TOD A  0.863221\n",
       "32       MCMAHON JEFFREY  0.912239"
      ]
     },
     "execution_count": 65,
     "metadata": {},
     "output_type": "execute_result"
    }
   ],
   "source": [
    "label"
   ]
  },
  {
   "cell_type": "code",
   "execution_count": 69,
   "id": "82a259ce",
   "metadata": {},
   "outputs": [
    {
     "data": {
      "text/plain": [
       "array([[9.97279618e-01, 2.72038246e-03],\n",
       "       [6.53999787e-04, 9.99346000e-01],\n",
       "       [1.26074498e-01, 8.73925502e-01],\n",
       "       [9.95225592e-01, 4.77440845e-03],\n",
       "       [6.99622645e-03, 9.93003774e-01],\n",
       "       [1.42474383e-03, 9.98575256e-01],\n",
       "       [8.00305374e-04, 9.99199695e-01],\n",
       "       [5.14518420e-04, 9.99485482e-01],\n",
       "       [9.99153617e-01, 8.46382530e-04],\n",
       "       [7.83466424e-01, 2.16533576e-01],\n",
       "       [8.98143262e-01, 1.01856738e-01],\n",
       "       [8.30323074e-01, 1.69676926e-01],\n",
       "       [8.96696078e-01, 1.03303922e-01],\n",
       "       [1.38123848e-03, 9.98618762e-01],\n",
       "       [2.37801928e-03, 9.97621981e-01],\n",
       "       [1.05566273e-03, 9.98944337e-01],\n",
       "       [9.99555620e-01, 4.44379521e-04],\n",
       "       [3.07418569e-04, 9.99692581e-01],\n",
       "       [4.66390170e-03, 9.95336098e-01],\n",
       "       [7.47741817e-01, 2.52258183e-01],\n",
       "       [2.37077890e-04, 9.99762922e-01],\n",
       "       [6.88171479e-01, 3.11828521e-01],\n",
       "       [1.40196966e-03, 9.98598030e-01],\n",
       "       [3.49651640e-04, 9.99650348e-01],\n",
       "       [1.14440936e-03, 9.98855591e-01],\n",
       "       [2.10294952e-02, 9.78970505e-01],\n",
       "       [8.39695662e-01, 1.60304338e-01],\n",
       "       [5.51854822e-01, 4.48145178e-01],\n",
       "       [9.97779228e-01, 2.22077214e-03],\n",
       "       [2.56829035e-01, 7.43170965e-01],\n",
       "       [8.18420041e-01, 1.81579959e-01],\n",
       "       [9.80357804e-01, 1.96421955e-02],\n",
       "       [8.86449518e-01, 1.13550482e-01]])"
      ]
     },
     "execution_count": 69,
     "metadata": {},
     "output_type": "execute_result"
    }
   ],
   "source": [
    "columns =[]\n",
    "for i in test.columns:\n",
    "    if test[i].dtype in ['int64' , 'float64']:\n",
    "        test[i] = test[i].fillna(test[i].mean())\n",
    "        columns.append(i)\n",
    "test_x = test.drop(['name' , 'email_address' ] , axis=1)\n",
    "test_name = test['name']\n",
    "test_pred = model.predict_proba(test_x)\n",
    "test_pred"
   ]
  },
  {
   "cell_type": "code",
   "execution_count": 72,
   "id": "a1e9c86a",
   "metadata": {},
   "outputs": [],
   "source": [
    "result = pd.DataFrame({'name':test_name , 'poi':test_pred[:,1]})\n",
    "result.to_csv('./result_gdbt.csv' , index=False)"
   ]
  }
 ],
 "metadata": {
  "kernelspec": {
   "display_name": "Python 3 (ipykernel)",
   "language": "python",
   "name": "python3"
  },
  "language_info": {
   "codemirror_mode": {
    "name": "ipython",
    "version": 3
   },
   "file_extension": ".py",
   "mimetype": "text/x-python",
   "name": "python",
   "nbconvert_exporter": "python",
   "pygments_lexer": "ipython3",
   "version": "3.7.11"
  }
 },
 "nbformat": 4,
 "nbformat_minor": 5
}
