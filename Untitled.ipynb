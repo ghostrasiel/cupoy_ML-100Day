{
 "cells": [
  {
   "cell_type": "code",
   "execution_count": 1,
   "id": "a278881c",
   "metadata": {},
   "outputs": [
    {
     "name": "stdout",
     "output_type": "stream",
     "text": [
      "ok\n"
     ]
    }
   ],
   "source": [
    "x = 'ok'\n",
    "def test():\n",
    "    x = 'not ok'\n",
    "    \n",
    "test()\n",
    "print(x)"
   ]
  },
  {
   "cell_type": "code",
   "execution_count": 2,
   "id": "d10961e0",
   "metadata": {},
   "outputs": [
    {
     "data": {
      "text/plain": [
       "8"
      ]
     },
     "execution_count": 2,
     "metadata": {},
     "output_type": "execute_result"
    }
   ],
   "source": [
    "y = [[1,2,3],[4,5,6],[7,8]]\n",
    "y_test = y\n",
    "y_test[2][1]"
   ]
  },
  {
   "cell_type": "code",
   "execution_count": 5,
   "id": "e2a50d79",
   "metadata": {},
   "outputs": [
    {
     "data": {
      "text/plain": [
       "['oct. 18. 2021', '2021-10-18']"
      ]
     },
     "execution_count": 5,
     "metadata": {},
     "output_type": "execute_result"
    }
   ],
   "source": [
    "import re\n",
    "s = 'oct. 18. 2021 , our tset one hot not , 2021-10-18'\n",
    "re.findall('(\\w+\\. \\d+\\. \\d+ | \\d+-\\d+-\\d+)' , s)"
   ]
  },
  {
   "cell_type": "code",
   "execution_count": 14,
   "id": "1353c695",
   "metadata": {},
   "outputs": [
    {
     "name": "stdout",
     "output_type": "stream",
     "text": [
      "5\n"
     ]
    }
   ],
   "source": [
    "id = 5\n",
    "class test():\n",
    "    id = 0\n",
    "    def __init__(self , id):\n",
    "        self.id = id\n",
    "    \n",
    "    def update_id(self,update_id):\n",
    "        self.id = update_id\n",
    "\n",
    "t = test(5)\n",
    "t.update_id(50)\n",
    "print(id)"
   ]
  }
 ],
 "metadata": {
  "kernelspec": {
   "display_name": "Python 3 (ipykernel)",
   "language": "python",
   "name": "python3"
  },
  "language_info": {
   "codemirror_mode": {
    "name": "ipython",
    "version": 3
   },
   "file_extension": ".py",
   "mimetype": "text/x-python",
   "name": "python",
   "nbconvert_exporter": "python",
   "pygments_lexer": "ipython3",
   "version": "3.7.11"
  }
 },
 "nbformat": 4,
 "nbformat_minor": 5
}
