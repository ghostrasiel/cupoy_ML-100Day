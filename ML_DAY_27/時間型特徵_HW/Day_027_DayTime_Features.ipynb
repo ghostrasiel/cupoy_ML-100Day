{
 "cells": [
  {
   "cell_type": "markdown",
   "metadata": {
    "collapsed": true
   },
   "source": [
    "# 範例 : 計程車費率預測\n",
    "https://www.kaggle.com/c/new-york-city-taxi-fare-prediction"
   ]
  },
  {
   "cell_type": "markdown",
   "metadata": {},
   "source": [
    "# [教學目標]\n",
    "- 使用程車費率預測競賽練習時間欄位處理"
   ]
  },
  {
   "cell_type": "markdown",
   "metadata": {},
   "source": [
    "# [範例重點]\n",
    "- 觀察時間特徵分解, 在線性迴歸分數 / 梯度提升樹分數上, 分別有什麼影響 (In[2], Out[2], In[3], Out[3]) \n",
    "- 觀察加入週期循環特徵, 在線性迴歸分數 / 梯度提升樹分數上, 分別有什麼影響 (In[4], Out[4], In[5], Out[5]) "
   ]
  },
  {
   "cell_type": "code",
   "execution_count": 1,
   "metadata": {},
   "outputs": [
    {
     "data": {
      "text/html": [
       "<div>\n",
       "<style scoped>\n",
       "    .dataframe tbody tr th:only-of-type {\n",
       "        vertical-align: middle;\n",
       "    }\n",
       "\n",
       "    .dataframe tbody tr th {\n",
       "        vertical-align: top;\n",
       "    }\n",
       "\n",
       "    .dataframe thead th {\n",
       "        text-align: right;\n",
       "    }\n",
       "</style>\n",
       "<table border=\"1\" class=\"dataframe\">\n",
       "  <thead>\n",
       "    <tr style=\"text-align: right;\">\n",
       "      <th></th>\n",
       "      <th>pickup_datetime</th>\n",
       "      <th>pickup_longitude</th>\n",
       "      <th>pickup_latitude</th>\n",
       "      <th>dropoff_longitude</th>\n",
       "      <th>dropoff_latitude</th>\n",
       "      <th>passenger_count</th>\n",
       "    </tr>\n",
       "  </thead>\n",
       "  <tbody>\n",
       "    <tr>\n",
       "      <th>0</th>\n",
       "      <td>2011-10-21 23:54:10 UTC</td>\n",
       "      <td>-73.990580</td>\n",
       "      <td>40.761071</td>\n",
       "      <td>-73.981128</td>\n",
       "      <td>40.758634</td>\n",
       "      <td>2</td>\n",
       "    </tr>\n",
       "    <tr>\n",
       "      <th>1</th>\n",
       "      <td>2015-02-03 10:42:03 UTC</td>\n",
       "      <td>-73.988403</td>\n",
       "      <td>40.723431</td>\n",
       "      <td>-73.989647</td>\n",
       "      <td>40.741695</td>\n",
       "      <td>1</td>\n",
       "    </tr>\n",
       "    <tr>\n",
       "      <th>2</th>\n",
       "      <td>2014-03-16 18:58:58 UTC</td>\n",
       "      <td>-74.015785</td>\n",
       "      <td>40.715110</td>\n",
       "      <td>-74.012029</td>\n",
       "      <td>40.707888</td>\n",
       "      <td>2</td>\n",
       "    </tr>\n",
       "    <tr>\n",
       "      <th>3</th>\n",
       "      <td>2009-06-13 16:10:54 UTC</td>\n",
       "      <td>-73.977322</td>\n",
       "      <td>40.787275</td>\n",
       "      <td>-73.958030</td>\n",
       "      <td>40.778838</td>\n",
       "      <td>3</td>\n",
       "    </tr>\n",
       "    <tr>\n",
       "      <th>4</th>\n",
       "      <td>2014-06-12 03:25:56 UTC</td>\n",
       "      <td>-73.989683</td>\n",
       "      <td>40.729717</td>\n",
       "      <td>-73.982490</td>\n",
       "      <td>40.761887</td>\n",
       "      <td>3</td>\n",
       "    </tr>\n",
       "  </tbody>\n",
       "</table>\n",
       "</div>"
      ],
      "text/plain": [
       "           pickup_datetime  pickup_longitude  pickup_latitude  \\\n",
       "0  2011-10-21 23:54:10 UTC        -73.990580        40.761071   \n",
       "1  2015-02-03 10:42:03 UTC        -73.988403        40.723431   \n",
       "2  2014-03-16 18:58:58 UTC        -74.015785        40.715110   \n",
       "3  2009-06-13 16:10:54 UTC        -73.977322        40.787275   \n",
       "4  2014-06-12 03:25:56 UTC        -73.989683        40.729717   \n",
       "\n",
       "   dropoff_longitude  dropoff_latitude  passenger_count  \n",
       "0         -73.981128         40.758634                2  \n",
       "1         -73.989647         40.741695                1  \n",
       "2         -74.012029         40.707888                2  \n",
       "3         -73.958030         40.778838                3  \n",
       "4         -73.982490         40.761887                3  "
      ]
     },
     "execution_count": 1,
     "metadata": {},
     "output_type": "execute_result"
    }
   ],
   "source": [
    "# 做完特徵工程前的所有準備\n",
    "import pandas as pd\n",
    "import numpy as np\n",
    "import datetime\n",
    "from sklearn.preprocessing import MinMaxScaler\n",
    "from sklearn.model_selection import cross_val_score\n",
    "from sklearn.linear_model import LinearRegression\n",
    "from sklearn.ensemble import GradientBoostingRegressor\n",
    "\n",
    "data_path = './'\n",
    "df = pd.read_csv(data_path + 'taxi_data1.csv')\n",
    "\n",
    "train_Y = df['fare_amount']\n",
    "df = df.drop(['fare_amount'] , axis=1)\n",
    "df.head()"
   ]
  },
  {
   "cell_type": "code",
   "execution_count": 2,
   "metadata": {},
   "outputs": [
    {
     "name": "stdout",
     "output_type": "stream",
     "text": [
      "<class 'pandas.core.frame.DataFrame'>\n",
      "RangeIndex: 5000 entries, 0 to 4999\n",
      "Data columns (total 6 columns):\n",
      " #   Column             Non-Null Count  Dtype  \n",
      "---  ------             --------------  -----  \n",
      " 0   pickup_datetime    5000 non-null   object \n",
      " 1   pickup_longitude   5000 non-null   float64\n",
      " 2   pickup_latitude    5000 non-null   float64\n",
      " 3   dropoff_longitude  5000 non-null   float64\n",
      " 4   dropoff_latitude   5000 non-null   float64\n",
      " 5   passenger_count    5000 non-null   int64  \n",
      "dtypes: float64(4), int64(1), object(1)\n",
      "memory usage: 234.5+ KB\n"
     ]
    }
   ],
   "source": [
    "df.info()"
   ]
  },
  {
   "cell_type": "code",
   "execution_count": 3,
   "metadata": {},
   "outputs": [
    {
     "data": {
      "text/html": [
       "<div>\n",
       "<style scoped>\n",
       "    .dataframe tbody tr th:only-of-type {\n",
       "        vertical-align: middle;\n",
       "    }\n",
       "\n",
       "    .dataframe tbody tr th {\n",
       "        vertical-align: top;\n",
       "    }\n",
       "\n",
       "    .dataframe thead th {\n",
       "        text-align: right;\n",
       "    }\n",
       "</style>\n",
       "<table border=\"1\" class=\"dataframe\">\n",
       "  <thead>\n",
       "    <tr style=\"text-align: right;\">\n",
       "      <th></th>\n",
       "      <th>pickup_datetime</th>\n",
       "      <th>pickup_longitude</th>\n",
       "      <th>pickup_latitude</th>\n",
       "      <th>dropoff_longitude</th>\n",
       "      <th>dropoff_latitude</th>\n",
       "      <th>passenger_count</th>\n",
       "      <th>pickup_year</th>\n",
       "      <th>pickup_month</th>\n",
       "      <th>pickup_day</th>\n",
       "      <th>pickup_hour</th>\n",
       "      <th>pickup_minute</th>\n",
       "      <th>pickup_second</th>\n",
       "    </tr>\n",
       "  </thead>\n",
       "  <tbody>\n",
       "    <tr>\n",
       "      <th>0</th>\n",
       "      <td>2011-10-21 23:54:10</td>\n",
       "      <td>-73.990580</td>\n",
       "      <td>40.761071</td>\n",
       "      <td>-73.981128</td>\n",
       "      <td>40.758634</td>\n",
       "      <td>2</td>\n",
       "      <td>2011</td>\n",
       "      <td>10</td>\n",
       "      <td>21</td>\n",
       "      <td>23</td>\n",
       "      <td>54</td>\n",
       "      <td>10</td>\n",
       "    </tr>\n",
       "    <tr>\n",
       "      <th>1</th>\n",
       "      <td>2015-02-03 10:42:03</td>\n",
       "      <td>-73.988403</td>\n",
       "      <td>40.723431</td>\n",
       "      <td>-73.989647</td>\n",
       "      <td>40.741695</td>\n",
       "      <td>1</td>\n",
       "      <td>2015</td>\n",
       "      <td>2</td>\n",
       "      <td>3</td>\n",
       "      <td>10</td>\n",
       "      <td>42</td>\n",
       "      <td>3</td>\n",
       "    </tr>\n",
       "    <tr>\n",
       "      <th>2</th>\n",
       "      <td>2014-03-16 18:58:58</td>\n",
       "      <td>-74.015785</td>\n",
       "      <td>40.715110</td>\n",
       "      <td>-74.012029</td>\n",
       "      <td>40.707888</td>\n",
       "      <td>2</td>\n",
       "      <td>2014</td>\n",
       "      <td>3</td>\n",
       "      <td>16</td>\n",
       "      <td>18</td>\n",
       "      <td>58</td>\n",
       "      <td>58</td>\n",
       "    </tr>\n",
       "    <tr>\n",
       "      <th>3</th>\n",
       "      <td>2009-06-13 16:10:54</td>\n",
       "      <td>-73.977322</td>\n",
       "      <td>40.787275</td>\n",
       "      <td>-73.958030</td>\n",
       "      <td>40.778838</td>\n",
       "      <td>3</td>\n",
       "      <td>2009</td>\n",
       "      <td>6</td>\n",
       "      <td>13</td>\n",
       "      <td>16</td>\n",
       "      <td>10</td>\n",
       "      <td>54</td>\n",
       "    </tr>\n",
       "    <tr>\n",
       "      <th>4</th>\n",
       "      <td>2014-06-12 03:25:56</td>\n",
       "      <td>-73.989683</td>\n",
       "      <td>40.729717</td>\n",
       "      <td>-73.982490</td>\n",
       "      <td>40.761887</td>\n",
       "      <td>3</td>\n",
       "      <td>2014</td>\n",
       "      <td>6</td>\n",
       "      <td>12</td>\n",
       "      <td>3</td>\n",
       "      <td>25</td>\n",
       "      <td>56</td>\n",
       "    </tr>\n",
       "  </tbody>\n",
       "</table>\n",
       "</div>"
      ],
      "text/plain": [
       "      pickup_datetime  pickup_longitude  pickup_latitude  dropoff_longitude  \\\n",
       "0 2011-10-21 23:54:10        -73.990580        40.761071         -73.981128   \n",
       "1 2015-02-03 10:42:03        -73.988403        40.723431         -73.989647   \n",
       "2 2014-03-16 18:58:58        -74.015785        40.715110         -74.012029   \n",
       "3 2009-06-13 16:10:54        -73.977322        40.787275         -73.958030   \n",
       "4 2014-06-12 03:25:56        -73.989683        40.729717         -73.982490   \n",
       "\n",
       "   dropoff_latitude  passenger_count  pickup_year  pickup_month  pickup_day  \\\n",
       "0         40.758634                2         2011            10          21   \n",
       "1         40.741695                1         2015             2           3   \n",
       "2         40.707888                2         2014             3          16   \n",
       "3         40.778838                3         2009             6          13   \n",
       "4         40.761887                3         2014             6          12   \n",
       "\n",
       "   pickup_hour  pickup_minute  pickup_second  \n",
       "0           23             54             10  \n",
       "1           10             42              3  \n",
       "2           18             58             58  \n",
       "3           16             10             54  \n",
       "4            3             25             56  "
      ]
     },
     "execution_count": 3,
     "metadata": {},
     "output_type": "execute_result"
    }
   ],
   "source": [
    "# 時間轉換方式 : 使用 datetime.strptime 解析(parse)時間字串 / 使用 datetime.strftime 匯出時間格式(format)\n",
    "# 參考官網 https://docs.python.org/3/library/datetime.html\n",
    "df['pickup_datetime'] = df['pickup_datetime'].apply(lambda x: datetime.datetime.strptime(x, '%Y-%m-%d %H:%M:%S UTC'))\n",
    "df['pickup_year'] = df['pickup_datetime'].apply(lambda x: datetime.datetime.strftime(x, '%Y')).astype('int64')\n",
    "df['pickup_month'] = df['pickup_datetime'].apply(lambda x: datetime.datetime.strftime(x, '%m')).astype('int64')\n",
    "df['pickup_day'] = df['pickup_datetime'].apply(lambda x: datetime.datetime.strftime(x, '%d')).astype('int64')\n",
    "df['pickup_hour'] = df['pickup_datetime'].apply(lambda x: datetime.datetime.strftime(x, '%H')).astype('int64')\n",
    "df['pickup_minute'] = df['pickup_datetime'].apply(lambda x: datetime.datetime.strftime(x, '%M')).astype('int64')\n",
    "df['pickup_second'] = df['pickup_datetime'].apply(lambda x: datetime.datetime.strftime(x, '%S')).astype('int64')\n",
    "df.head()"
   ]
  },
  {
   "cell_type": "code",
   "execution_count": 4,
   "metadata": {},
   "outputs": [
    {
     "name": "stdout",
     "output_type": "stream",
     "text": [
      "Linear Reg Score : 0.02687687147563389\n",
      "Gradient Boosting Reg Score : 0.7096043796586448\n"
     ]
    }
   ],
   "source": [
    "# 將結果使用線性迴歸 / 梯度提升樹分別看結果\n",
    "df_temp = df.drop(['pickup_datetime'] , axis=1)\n",
    "scaler = MinMaxScaler()\n",
    "train_X = scaler.fit_transform(df_temp)\n",
    "Linear = LinearRegression()\n",
    "print(f'Linear Reg Score : {cross_val_score(Linear, train_X, train_Y, cv=5).mean()}')\n",
    "GDBT = GradientBoostingRegressor()\n",
    "print(f'Gradient Boosting Reg Score : {cross_val_score(GDBT, train_X, train_Y, cv=5).mean()}')"
   ]
  },
  {
   "cell_type": "code",
   "execution_count": 5,
   "metadata": {},
   "outputs": [
    {
     "data": {
      "text/html": [
       "<div>\n",
       "<style scoped>\n",
       "    .dataframe tbody tr th:only-of-type {\n",
       "        vertical-align: middle;\n",
       "    }\n",
       "\n",
       "    .dataframe tbody tr th {\n",
       "        vertical-align: top;\n",
       "    }\n",
       "\n",
       "    .dataframe thead th {\n",
       "        text-align: right;\n",
       "    }\n",
       "</style>\n",
       "<table border=\"1\" class=\"dataframe\">\n",
       "  <thead>\n",
       "    <tr style=\"text-align: right;\">\n",
       "      <th></th>\n",
       "      <th>pickup_datetime</th>\n",
       "      <th>pickup_longitude</th>\n",
       "      <th>pickup_latitude</th>\n",
       "      <th>dropoff_longitude</th>\n",
       "      <th>dropoff_latitude</th>\n",
       "      <th>passenger_count</th>\n",
       "      <th>pickup_year</th>\n",
       "      <th>pickup_month</th>\n",
       "      <th>pickup_day</th>\n",
       "      <th>pickup_hour</th>\n",
       "      <th>pickup_minute</th>\n",
       "      <th>pickup_second</th>\n",
       "      <th>day_cycle</th>\n",
       "    </tr>\n",
       "  </thead>\n",
       "  <tbody>\n",
       "    <tr>\n",
       "      <th>0</th>\n",
       "      <td>2011-10-21 23:54:10</td>\n",
       "      <td>-73.990580</td>\n",
       "      <td>40.761071</td>\n",
       "      <td>-73.981128</td>\n",
       "      <td>40.758634</td>\n",
       "      <td>2</td>\n",
       "      <td>2011</td>\n",
       "      <td>10</td>\n",
       "      <td>21</td>\n",
       "      <td>23</td>\n",
       "      <td>54</td>\n",
       "      <td>10</td>\n",
       "      <td>-0.025450</td>\n",
       "    </tr>\n",
       "    <tr>\n",
       "      <th>1</th>\n",
       "      <td>2015-02-03 10:42:03</td>\n",
       "      <td>-73.988403</td>\n",
       "      <td>40.723431</td>\n",
       "      <td>-73.989647</td>\n",
       "      <td>40.741695</td>\n",
       "      <td>1</td>\n",
       "      <td>2015</td>\n",
       "      <td>2</td>\n",
       "      <td>3</td>\n",
       "      <td>10</td>\n",
       "      <td>42</td>\n",
       "      <td>3</td>\n",
       "      <td>0.333601</td>\n",
       "    </tr>\n",
       "    <tr>\n",
       "      <th>2</th>\n",
       "      <td>2014-03-16 18:58:58</td>\n",
       "      <td>-74.015785</td>\n",
       "      <td>40.715110</td>\n",
       "      <td>-74.012029</td>\n",
       "      <td>40.707888</td>\n",
       "      <td>2</td>\n",
       "      <td>2014</td>\n",
       "      <td>3</td>\n",
       "      <td>16</td>\n",
       "      <td>18</td>\n",
       "      <td>58</td>\n",
       "      <td>58</td>\n",
       "      <td>-0.967083</td>\n",
       "    </tr>\n",
       "    <tr>\n",
       "      <th>3</th>\n",
       "      <td>2009-06-13 16:10:54</td>\n",
       "      <td>-73.977322</td>\n",
       "      <td>40.787275</td>\n",
       "      <td>-73.958030</td>\n",
       "      <td>40.778838</td>\n",
       "      <td>3</td>\n",
       "      <td>2009</td>\n",
       "      <td>6</td>\n",
       "      <td>13</td>\n",
       "      <td>16</td>\n",
       "      <td>10</td>\n",
       "      <td>54</td>\n",
       "      <td>-0.888817</td>\n",
       "    </tr>\n",
       "    <tr>\n",
       "      <th>4</th>\n",
       "      <td>2014-06-12 03:25:56</td>\n",
       "      <td>-73.989683</td>\n",
       "      <td>40.729717</td>\n",
       "      <td>-73.982490</td>\n",
       "      <td>40.761887</td>\n",
       "      <td>3</td>\n",
       "      <td>2014</td>\n",
       "      <td>6</td>\n",
       "      <td>12</td>\n",
       "      <td>3</td>\n",
       "      <td>25</td>\n",
       "      <td>56</td>\n",
       "      <td>0.782427</td>\n",
       "    </tr>\n",
       "  </tbody>\n",
       "</table>\n",
       "</div>"
      ],
      "text/plain": [
       "      pickup_datetime  pickup_longitude  pickup_latitude  dropoff_longitude  \\\n",
       "0 2011-10-21 23:54:10        -73.990580        40.761071         -73.981128   \n",
       "1 2015-02-03 10:42:03        -73.988403        40.723431         -73.989647   \n",
       "2 2014-03-16 18:58:58        -74.015785        40.715110         -74.012029   \n",
       "3 2009-06-13 16:10:54        -73.977322        40.787275         -73.958030   \n",
       "4 2014-06-12 03:25:56        -73.989683        40.729717         -73.982490   \n",
       "\n",
       "   dropoff_latitude  passenger_count  pickup_year  pickup_month  pickup_day  \\\n",
       "0         40.758634                2         2011            10          21   \n",
       "1         40.741695                1         2015             2           3   \n",
       "2         40.707888                2         2014             3          16   \n",
       "3         40.778838                3         2009             6          13   \n",
       "4         40.761887                3         2014             6          12   \n",
       "\n",
       "   pickup_hour  pickup_minute  pickup_second  day_cycle  \n",
       "0           23             54             10  -0.025450  \n",
       "1           10             42              3   0.333601  \n",
       "2           18             58             58  -0.967083  \n",
       "3           16             10             54  -0.888817  \n",
       "4            3             25             56   0.782427  "
      ]
     },
     "execution_count": 5,
     "metadata": {},
     "output_type": "execute_result"
    }
   ],
   "source": [
    "# 加上\"日週期\"特徵 (參考講義\"週期循環特徵\")\n",
    "import math\n",
    "df['day_cycle'] = df['pickup_hour']/12 + df['pickup_minute']/720 + df['pickup_second']/43200\n",
    "df['day_cycle'] = df['day_cycle'].map(lambda x:math.sin(x*math.pi))\n",
    "df.head()"
   ]
  },
  {
   "cell_type": "code",
   "execution_count": 6,
   "metadata": {},
   "outputs": [
    {
     "name": "stdout",
     "output_type": "stream",
     "text": [
      "Linear Reg Score : 0.026412252675034265\n",
      "Gradient Boosting Reg Score : 0.7090416283017308\n"
     ]
    }
   ],
   "source": [
    "# 結果 : 預測力反而下降\n",
    "df_temp = df.drop(['pickup_datetime'] , axis=1)\n",
    "train_X = scaler.fit_transform(df_temp)\n",
    "print(f'Linear Reg Score : {cross_val_score(Linear, train_X, train_Y, cv=5).mean()}')\n",
    "print(f'Gradient Boosting Reg Score : {cross_val_score(GDBT, train_X, train_Y, cv=5).mean()}')"
   ]
  },
  {
   "cell_type": "code",
   "execution_count": 7,
   "metadata": {},
   "outputs": [
    {
     "data": {
      "text/plain": [
       "array([11.28884753, 12.04992922, 11.95291866, ..., 11.06552789,\n",
       "        8.31027892, 10.11152373])"
      ]
     },
     "execution_count": 7,
     "metadata": {},
     "output_type": "execute_result"
    }
   ],
   "source": [
    "Linear.fit(train_X , train_Y)\n",
    "y_pred = Linear.predict(train_X)\n",
    "y_pred"
   ]
  },
  {
   "cell_type": "code",
   "execution_count": 10,
   "metadata": {},
   "outputs": [
    {
     "data": {
      "text/plain": [
       "array([7.54353903, 8.95453544, 9.55360956, ..., 7.00801985, 7.26382213,\n",
       "       8.01768593])"
      ]
     },
     "execution_count": 10,
     "metadata": {},
     "output_type": "execute_result"
    }
   ],
   "source": [
    "GDBT.fit(train_X , train_Y)\n",
    "y_GBT_p = GDBT.predict(train_X)\n",
    "y_GBT_p"
   ]
  },
  {
   "cell_type": "code",
   "execution_count": 33,
   "metadata": {},
   "outputs": [],
   "source": [
    "y_df = pd.DataFrame(data={'y_pred':y_GBT_p , \"label\":train_Y })\n",
    "y_df['data'] = df['pickup_year']"
   ]
  },
  {
   "cell_type": "code",
   "execution_count": 39,
   "metadata": {},
   "outputs": [
    {
     "data": {
      "text/plain": [
       "<AxesSubplot:xlabel='data', ylabel='y_pred'>"
      ]
     },
     "execution_count": 39,
     "metadata": {},
     "output_type": "execute_result"
    },
    {
     "data": {
      "image/png": "[encoded data removed]",
      "text/plain": [
       "<Figure size 432x288 with 1 Axes>"
      ]
     },
     "metadata": {
      "needs_background": "light"
     },
     "output_type": "display_data"
    }
   ],
   "source": [
    "import matplotlib.pyplot as plt\n",
    "import seaborn as sns\n",
    "sns.lineplot(x=y_df['data'] , y=y_df['y_pred'] , err_style='bars')\n",
    "sns.lineplot(x=y_df['data'] , y=y_df['label'], err_style='bars')"
   ]
  },
  {
   "cell_type": "markdown",
   "metadata": {
    "collapsed": true
   },
   "source": [
    "# 作業1\n",
    "* 對照範例，試著加入星期幾 (day of week) 與第幾周 (week of year) 這兩項特徵，  \n",
    "看看結果會比原本只有時間特徵分解的結果更好或更差?\n",
    "\n",
    "# 作業2\n",
    "* 對照範例的日週期效果，試著參考投影片完成年週期與周週期的特徵 (也可以用你自己想到的方式)，  \n",
    "看看結果會比範例中的結果更好或更差?"
   ]
  },
  {
   "cell_type": "code",
   "execution_count": null,
   "metadata": {
    "collapsed": true
   },
   "outputs": [],
   "source": []
  }
 ],
 "metadata": {
  "kernelspec": {
   "display_name": "Python 3 (ipykernel)",
   "language": "python",
   "name": "python3"
  },
  "language_info": {
   "codemirror_mode": {
    "name": "ipython",
    "version": 3
   },
   "file_extension": ".py",
   "mimetype": "text/x-python",
   "name": "python",
   "nbconvert_exporter": "python",
   "pygments_lexer": "ipython3",
   "version": "3.7.11"
  }
 },
 "nbformat": 4,
 "nbformat_minor": 2
}
