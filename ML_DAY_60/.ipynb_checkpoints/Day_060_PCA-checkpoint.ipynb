{
 "cells": [
  {
   "cell_type": "markdown",
   "metadata": {
    "collapsed": true
   },
   "source": [
    "# 使用手寫辨識資料集, 觀察 PCA 算法"
   ]
  },
  {
   "cell_type": "markdown",
   "metadata": {},
   "source": [
    "# [教學目標]\n",
    "- 以 PCA + 邏輯斯迴歸判斷手寫辨識資料集, 觀察不同 component 下正確率的變化\n",
    "- 因為非監督模型的效果, 較難以簡單的範例看出來  \n",
    "  所以非監督偶數日提供的範例與作業, 主要目的在於觀察非監督模型的效果,  \n",
    "  同學只要能感受到模型效果即可, 不用執著於搞懂程式的每一個部分"
   ]
  },
  {
   "cell_type": "markdown",
   "metadata": {},
   "source": [
    "# [範例重點]\n",
    "- 以手寫辨識資料集, 觀察 PCA 算法取不同 component 時, PCA 解釋度與分類正確率如何變化 (In[5], Out[5])"
   ]
  },
  {
   "cell_type": "code",
   "execution_count": 1,
   "metadata": {},
   "outputs": [],
   "source": [
    "# 載入套件\n",
    "import numpy as np\n",
    "import matplotlib.pyplot as plt\n",
    "import pandas as pd\n",
    "\n",
    "from sklearn import datasets\n",
    "from sklearn.decomposition import PCA\n",
    "from sklearn.linear_model import SGDClassifier\n",
    "from sklearn.pipeline import Pipeline\n",
    "from sklearn.model_selection import GridSearchCV\n",
    "import warnings\n",
    "warnings.filterwarnings(\"ignore\")"
   ]
  },
  {
   "cell_type": "code",
   "execution_count": 4,
   "metadata": {},
   "outputs": [],
   "source": [
    "# 定義 PCA 與隨後的邏輯斯迴歸函數\n",
    "logistic = SGDClassifier(loss='log', penalty='l2', max_iter=10000, tol=1e-5, random_state=0)\n",
    "pca = PCA()\n",
    "pipe = Pipeline(steps=[('pca', pca), ('logistic', logistic)])\n",
    "\n",
    "# 載入手寫數字辨識集\n",
    "digits = datasets.load_digits()\n",
    "X_digits = digits.data\n",
    "y_digits = digits.target"
   ]
  },
  {
   "cell_type": "code",
   "execution_count": 7,
   "metadata": {},
   "outputs": [
    {
     "name": "stdout",
     "output_type": "stream",
     "text": [
      "Best parameter (CV score=0.915):\n",
      "{'logistic__alpha': 0.01, 'pca__n_components': 50}\n"
     ]
    }
   ],
   "source": [
    "# 先執行 GridSearchCV 跑出最佳參數\n",
    "param_grid = {\n",
    "    'pca__n_components': [4, 10, 20, 30, 40, 50, 64],\n",
    "    'logistic__alpha': np.logspace(-4, 4, 5),\n",
    "}\n",
    "search = GridSearchCV(pipe, param_grid, cv=5, return_train_score=False)\n",
    "search.fit(X_digits, y_digits)\n",
    "print(\"Best parameter (CV score=%0.3f):\" % search.best_score_)\n",
    "print(search.best_params_)"
   ]
  },
  {
   "cell_type": "code",
   "execution_count": 34,
   "metadata": {},
   "outputs": [
    {
     "data": {
      "text/plain": [
       "<matplotlib.legend.Legend at 0x7fa22cdbad50>"
      ]
     },
     "execution_count": 34,
     "metadata": {},
     "output_type": "execute_result"
    },
    {
     "data": {
      "image/png": "[encoded data removed]",
      "text/plain": [
       "<Figure size 432x432 with 2 Axes>"
      ]
     },
     "metadata": {
      "needs_background": "light"
     },
     "output_type": "display_data"
    }
   ],
   "source": [
    "# 繪製不同 components 的 PCA 解釋度\n",
    "pca.fit(X_digits)\n",
    "\n",
    "fig, (ax0, ax1) = plt.subplots(nrows=2, sharex=True, figsize=(6, 6))\n",
    "ax0.plot(pca.explained_variance_ratio_, linewidth=2)\n",
    "ax0.set_ylabel('PCA explained variance')\n",
    "\n",
    "ax0.axvline(search.best_estimator_.named_steps['pca'].n_components, linestyle=':', label='n_components chosen')\n",
    "ax0.legend(prop=dict(size=12))"
   ]
  },
  {
   "cell_type": "code",
   "execution_count": 32,
   "metadata": {},
   "outputs": [
    {
     "data": {
      "image/png": "[encoded data removed]",
      "text/plain": [
       "<Figure size 432x288 with 1 Axes>"
      ]
     },
     "metadata": {
      "needs_background": "light"
     },
     "output_type": "display_data"
    }
   ],
   "source": [
    "# 繪製不同採樣點的分類正確率\n",
    "results = pd.DataFrame(search.cv_results_)\n",
    "components_col = 'param_pca__n_components'\n",
    "best_clfs = results.groupby(components_col).apply(lambda g: g.nlargest(1, 'mean_test_score'))\n",
    "\n",
    "best_clfs.plot(x=components_col, y='mean_test_score', yerr='std_test_score', legend=False )\n",
    "ax1.set_ylabel('Classification accuracy (val)')\n",
    "ax1.set_xlabel('n_components')\n",
    "plt.tight_layout()\n",
    "plt.show()"
   ]
  },
  {
   "cell_type": "code",
   "execution_count": 28,
   "metadata": {},
   "outputs": [
    {
     "data": {
      "text/html": [
       "<div>\n",
       "<style scoped>\n",
       "    .dataframe tbody tr th:only-of-type {\n",
       "        vertical-align: middle;\n",
       "    }\n",
       "\n",
       "    .dataframe tbody tr th {\n",
       "        vertical-align: top;\n",
       "    }\n",
       "\n",
       "    .dataframe thead th {\n",
       "        text-align: right;\n",
       "    }\n",
       "</style>\n",
       "<table border=\"1\" class=\"dataframe\">\n",
       "  <thead>\n",
       "    <tr style=\"text-align: right;\">\n",
       "      <th></th>\n",
       "      <th></th>\n",
       "      <th>mean_fit_time</th>\n",
       "      <th>std_fit_time</th>\n",
       "      <th>mean_score_time</th>\n",
       "      <th>std_score_time</th>\n",
       "      <th>param_logistic__alpha</th>\n",
       "      <th>param_pca__n_components</th>\n",
       "      <th>params</th>\n",
       "      <th>split0_test_score</th>\n",
       "      <th>split1_test_score</th>\n",
       "      <th>split2_test_score</th>\n",
       "      <th>split3_test_score</th>\n",
       "      <th>split4_test_score</th>\n",
       "      <th>mean_test_score</th>\n",
       "      <th>std_test_score</th>\n",
       "      <th>rank_test_score</th>\n",
       "    </tr>\n",
       "    <tr>\n",
       "      <th>param_pca__n_components</th>\n",
       "      <th></th>\n",
       "      <th></th>\n",
       "      <th></th>\n",
       "      <th></th>\n",
       "      <th></th>\n",
       "      <th></th>\n",
       "      <th></th>\n",
       "      <th></th>\n",
       "      <th></th>\n",
       "      <th></th>\n",
       "      <th></th>\n",
       "      <th></th>\n",
       "      <th></th>\n",
       "      <th></th>\n",
       "      <th></th>\n",
       "      <th></th>\n",
       "    </tr>\n",
       "  </thead>\n",
       "  <tbody>\n",
       "    <tr>\n",
       "      <th>4</th>\n",
       "      <th>7</th>\n",
       "      <td>1.158096</td>\n",
       "      <td>0.410365</td>\n",
       "      <td>0.001070</td>\n",
       "      <td>0.000276</td>\n",
       "      <td>0.01</td>\n",
       "      <td>4</td>\n",
       "      <td>{'logistic__alpha': 0.01, 'pca__n_components': 4}</td>\n",
       "      <td>0.725000</td>\n",
       "      <td>0.675000</td>\n",
       "      <td>0.735376</td>\n",
       "      <td>0.727019</td>\n",
       "      <td>0.690808</td>\n",
       "      <td>0.710641</td>\n",
       "      <td>0.023452</td>\n",
       "      <td>25</td>\n",
       "    </tr>\n",
       "    <tr>\n",
       "      <th>10</th>\n",
       "      <th>1</th>\n",
       "      <td>0.027154</td>\n",
       "      <td>0.002059</td>\n",
       "      <td>0.000334</td>\n",
       "      <td>0.000038</td>\n",
       "      <td>0.0001</td>\n",
       "      <td>10</td>\n",
       "      <td>{'logistic__alpha': 0.0001, 'pca__n_components...</td>\n",
       "      <td>0.900000</td>\n",
       "      <td>0.844444</td>\n",
       "      <td>0.896936</td>\n",
       "      <td>0.902507</td>\n",
       "      <td>0.844011</td>\n",
       "      <td>0.877580</td>\n",
       "      <td>0.027289</td>\n",
       "      <td>16</td>\n",
       "    </tr>\n",
       "    <tr>\n",
       "      <th>20</th>\n",
       "      <th>9</th>\n",
       "      <td>0.038233</td>\n",
       "      <td>0.001314</td>\n",
       "      <td>0.000325</td>\n",
       "      <td>0.000012</td>\n",
       "      <td>0.01</td>\n",
       "      <td>20</td>\n",
       "      <td>{'logistic__alpha': 0.01, 'pca__n_components':...</td>\n",
       "      <td>0.925000</td>\n",
       "      <td>0.872222</td>\n",
       "      <td>0.916435</td>\n",
       "      <td>0.941504</td>\n",
       "      <td>0.866295</td>\n",
       "      <td>0.904291</td>\n",
       "      <td>0.029777</td>\n",
       "      <td>13</td>\n",
       "    </tr>\n",
       "    <tr>\n",
       "      <th>30</th>\n",
       "      <th>10</th>\n",
       "      <td>0.053019</td>\n",
       "      <td>0.007107</td>\n",
       "      <td>0.000343</td>\n",
       "      <td>0.000006</td>\n",
       "      <td>0.01</td>\n",
       "      <td>30</td>\n",
       "      <td>{'logistic__alpha': 0.01, 'pca__n_components':...</td>\n",
       "      <td>0.927778</td>\n",
       "      <td>0.888889</td>\n",
       "      <td>0.922006</td>\n",
       "      <td>0.958217</td>\n",
       "      <td>0.871866</td>\n",
       "      <td>0.913751</td>\n",
       "      <td>0.030380</td>\n",
       "      <td>4</td>\n",
       "    </tr>\n",
       "    <tr>\n",
       "      <th>40</th>\n",
       "      <th>18</th>\n",
       "      <td>0.520512</td>\n",
       "      <td>0.045582</td>\n",
       "      <td>0.000649</td>\n",
       "      <td>0.000186</td>\n",
       "      <td>1</td>\n",
       "      <td>40</td>\n",
       "      <td>{'logistic__alpha': 1.0, 'pca__n_components': 40}</td>\n",
       "      <td>0.938889</td>\n",
       "      <td>0.886111</td>\n",
       "      <td>0.919220</td>\n",
       "      <td>0.961003</td>\n",
       "      <td>0.866295</td>\n",
       "      <td>0.914304</td>\n",
       "      <td>0.034377</td>\n",
       "      <td>2</td>\n",
       "    </tr>\n",
       "    <tr>\n",
       "      <th>50</th>\n",
       "      <th>12</th>\n",
       "      <td>0.058682</td>\n",
       "      <td>0.005243</td>\n",
       "      <td>0.000381</td>\n",
       "      <td>0.000005</td>\n",
       "      <td>0.01</td>\n",
       "      <td>50</td>\n",
       "      <td>{'logistic__alpha': 0.01, 'pca__n_components':...</td>\n",
       "      <td>0.925000</td>\n",
       "      <td>0.894444</td>\n",
       "      <td>0.947075</td>\n",
       "      <td>0.944290</td>\n",
       "      <td>0.863510</td>\n",
       "      <td>0.914864</td>\n",
       "      <td>0.031813</td>\n",
       "      <td>1</td>\n",
       "    </tr>\n",
       "    <tr>\n",
       "      <th>64</th>\n",
       "      <th>13</th>\n",
       "      <td>0.064074</td>\n",
       "      <td>0.010798</td>\n",
       "      <td>0.000472</td>\n",
       "      <td>0.000066</td>\n",
       "      <td>0.01</td>\n",
       "      <td>64</td>\n",
       "      <td>{'logistic__alpha': 0.01, 'pca__n_components':...</td>\n",
       "      <td>0.916667</td>\n",
       "      <td>0.891667</td>\n",
       "      <td>0.947075</td>\n",
       "      <td>0.947075</td>\n",
       "      <td>0.866295</td>\n",
       "      <td>0.913756</td>\n",
       "      <td>0.031525</td>\n",
       "      <td>3</td>\n",
       "    </tr>\n",
       "  </tbody>\n",
       "</table>\n",
       "</div>"
      ],
      "text/plain": [
       "                            mean_fit_time  std_fit_time  mean_score_time  \\\n",
       "param_pca__n_components                                                    \n",
       "4                       7        1.158096      0.410365         0.001070   \n",
       "10                      1        0.027154      0.002059         0.000334   \n",
       "20                      9        0.038233      0.001314         0.000325   \n",
       "30                      10       0.053019      0.007107         0.000343   \n",
       "40                      18       0.520512      0.045582         0.000649   \n",
       "50                      12       0.058682      0.005243         0.000381   \n",
       "64                      13       0.064074      0.010798         0.000472   \n",
       "\n",
       "                            std_score_time param_logistic__alpha  \\\n",
       "param_pca__n_components                                            \n",
       "4                       7         0.000276                  0.01   \n",
       "10                      1         0.000038                0.0001   \n",
       "20                      9         0.000012                  0.01   \n",
       "30                      10        0.000006                  0.01   \n",
       "40                      18        0.000186                     1   \n",
       "50                      12        0.000005                  0.01   \n",
       "64                      13        0.000066                  0.01   \n",
       "\n",
       "                           param_pca__n_components  \\\n",
       "param_pca__n_components                              \n",
       "4                       7                        4   \n",
       "10                      1                       10   \n",
       "20                      9                       20   \n",
       "30                      10                      30   \n",
       "40                      18                      40   \n",
       "50                      12                      50   \n",
       "64                      13                      64   \n",
       "\n",
       "                                                                       params  \\\n",
       "param_pca__n_components                                                         \n",
       "4                       7   {'logistic__alpha': 0.01, 'pca__n_components': 4}   \n",
       "10                      1   {'logistic__alpha': 0.0001, 'pca__n_components...   \n",
       "20                      9   {'logistic__alpha': 0.01, 'pca__n_components':...   \n",
       "30                      10  {'logistic__alpha': 0.01, 'pca__n_components':...   \n",
       "40                      18  {'logistic__alpha': 1.0, 'pca__n_components': 40}   \n",
       "50                      12  {'logistic__alpha': 0.01, 'pca__n_components':...   \n",
       "64                      13  {'logistic__alpha': 0.01, 'pca__n_components':...   \n",
       "\n",
       "                            split0_test_score  split1_test_score  \\\n",
       "param_pca__n_components                                            \n",
       "4                       7            0.725000           0.675000   \n",
       "10                      1            0.900000           0.844444   \n",
       "20                      9            0.925000           0.872222   \n",
       "30                      10           0.927778           0.888889   \n",
       "40                      18           0.938889           0.886111   \n",
       "50                      12           0.925000           0.894444   \n",
       "64                      13           0.916667           0.891667   \n",
       "\n",
       "                            split2_test_score  split3_test_score  \\\n",
       "param_pca__n_components                                            \n",
       "4                       7            0.735376           0.727019   \n",
       "10                      1            0.896936           0.902507   \n",
       "20                      9            0.916435           0.941504   \n",
       "30                      10           0.922006           0.958217   \n",
       "40                      18           0.919220           0.961003   \n",
       "50                      12           0.947075           0.944290   \n",
       "64                      13           0.947075           0.947075   \n",
       "\n",
       "                            split4_test_score  mean_test_score  \\\n",
       "param_pca__n_components                                          \n",
       "4                       7            0.690808         0.710641   \n",
       "10                      1            0.844011         0.877580   \n",
       "20                      9            0.866295         0.904291   \n",
       "30                      10           0.871866         0.913751   \n",
       "40                      18           0.866295         0.914304   \n",
       "50                      12           0.863510         0.914864   \n",
       "64                      13           0.866295         0.913756   \n",
       "\n",
       "                            std_test_score  rank_test_score  \n",
       "param_pca__n_components                                      \n",
       "4                       7         0.023452               25  \n",
       "10                      1         0.027289               16  \n",
       "20                      9         0.029777               13  \n",
       "30                      10        0.030380                4  \n",
       "40                      18        0.034377                2  \n",
       "50                      12        0.031813                1  \n",
       "64                      13        0.031525                3  "
      ]
     },
     "execution_count": 28,
     "metadata": {},
     "output_type": "execute_result"
    }
   ],
   "source": [
    "best_clfs"
   ]
  },
  {
   "cell_type": "markdown",
   "metadata": {
    "collapsed": true
   },
   "source": [
    "# 觀察結果\n",
    "* explained variance ratio : 解釋變異性隨著 components 穩定下降\n",
    "* 分類預測準確率 : 似乎也隨著 components 提升, 但是在 20 以後提升不多"
   ]
  },
  {
   "cell_type": "code",
   "execution_count": null,
   "metadata": {
    "collapsed": true
   },
   "outputs": [],
   "source": []
  }
 ],
 "metadata": {
  "kernelspec": {
   "display_name": "Python 3 (ipykernel)",
   "language": "python",
   "name": "python3"
  },
  "language_info": {
   "codemirror_mode": {
    "name": "ipython",
    "version": 3
   },
   "file_extension": ".py",
   "mimetype": "text/x-python",
   "name": "python",
   "nbconvert_exporter": "python",
   "pygments_lexer": "ipython3",
   "version": "3.7.11"
  }
 },
 "nbformat": 4,
 "nbformat_minor": 1
}
