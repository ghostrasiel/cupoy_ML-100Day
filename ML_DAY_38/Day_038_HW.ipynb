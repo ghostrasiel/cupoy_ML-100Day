{
 "cells": [
  {
   "cell_type": "markdown",
   "metadata": {},
   "source": [
    "## [作業重點]\n",
    "使用 Sklearn 中的線性迴歸模型，來訓練各種資料集，務必了解送進去模型訓練的**資料型態**為何，也請了解模型中各項參數的意義"
   ]
  },
  {
   "cell_type": "markdown",
   "metadata": {},
   "source": [
    "## 作業\n",
    "試著使用 sklearn datasets 的其他資料集 (wine, boston, ...)，來訓練自己的線性迴歸模型。"
   ]
  },
  {
   "cell_type": "markdown",
   "metadata": {},
   "source": [
    "### HINT: 注意 label 的型態，確定資料集的目標是分類還是回歸，在使用正確的模型訓練！"
   ]
  },
  {
   "cell_type": "code",
   "execution_count": 57,
   "metadata": {},
   "outputs": [],
   "source": [
    "from sklearn import datasets\n",
    "from sklearn.linear_model import LinearRegression , LogisticRegression\n",
    "from sklearn.model_selection import train_test_split\n",
    "from sklearn.metrics import mean_squared_error , roc_auc_score , accuracy_score ,f1_score\n",
    "wine = datasets.load_wine()\n",
    "boston = datasets.load_boston()\n",
    "breast_cancer = datasets.load_breast_cancer()"
   ]
  },
  {
   "cell_type": "code",
   "execution_count": 6,
   "metadata": {},
   "outputs": [
    {
     "data": {
      "text/plain": [
       "array([32.65503184, 28.0934953 , 18.02901829, 21.47671576, 18.8254387 ,\n",
       "       19.87997758, 32.42014863, 18.06597765, 24.42277848, 27.00977832,\n",
       "       27.04081017, 28.75196794, 21.15677699, 26.85200196, 23.38835945,\n",
       "       20.66241266, 17.33082198, 38.24813601, 30.50550873,  8.74436733,\n",
       "       20.80203902, 16.26328126, 25.21805656, 24.85175752, 31.384365  ,\n",
       "       10.71311063, 13.80434635, 16.65930389, 36.52625779, 14.66750528,\n",
       "       21.12114902, 13.95558618, 43.16210242, 17.97539649, 21.80116017,\n",
       "       20.58294808, 17.59938821, 27.2212319 ,  9.46139365, 19.82963781,\n",
       "       24.30751863, 21.18528812, 29.57235682, 16.3431752 , 19.31483171,\n",
       "       14.56343172, 39.20885479, 18.10887551, 25.91223267, 20.33018802,\n",
       "       25.16282007, 24.42921237, 25.07123258, 26.6603279 ,  4.56151258,\n",
       "       24.0818735 , 10.88682673, 26.88926656, 16.85598381, 35.88704363,\n",
       "       19.55733853, 27.51928921, 16.58436103, 18.77551029, 11.13872875,\n",
       "       32.36392607, 36.72833773, 21.95924582, 24.57949647, 25.14868695,\n",
       "       23.42841301,  6.90732017, 16.56298149, 20.41940517, 20.80403418,\n",
       "       21.54219598, 33.85383463, 27.94645899, 25.17281456, 34.65883942,\n",
       "       18.62487738, 23.97375565, 34.6419296 , 13.34754896, 20.71097982,\n",
       "       30.0803549 , 17.13421671, 24.30528434, 19.25576671, 16.98006722,\n",
       "       27.00622638, 41.85509074, 14.11131512, 23.25736073, 14.66302672,\n",
       "       21.86977175, 23.02527624, 29.0899182 , 37.11937872, 20.53271022,\n",
       "       17.36840034, 17.71399314])"
      ]
     },
     "execution_count": 6,
     "metadata": {},
     "output_type": "execute_result"
    }
   ],
   "source": [
    "x = boston.data\n",
    "y = boston.target\n",
    "X_train , X_test , y_train , y_test = train_test_split(x , y , train_size=0.8 , random_state=1)\n",
    "liner_model = LinearRegression()\n",
    "liner_model.fit(X_train , y_train)\n",
    "y_pred = liner_model.predict(X_test)\n",
    "y_pred"
   ]
  },
  {
   "cell_type": "code",
   "execution_count": 10,
   "metadata": {},
   "outputs": [
    {
     "name": "stdout",
     "output_type": "stream",
     "text": [
      "MSE: 23.380836480269966\n"
     ]
    }
   ],
   "source": [
    "print('MSE:',mean_squared_error(y_test , y_pred))"
   ]
  },
  {
   "cell_type": "code",
   "execution_count": 20,
   "metadata": {},
   "outputs": [
    {
     "name": "stdout",
     "output_type": "stream",
     "text": [
      "MSE: 74.22670102122397\n"
     ]
    }
   ],
   "source": [
    "import matplotlib.pyplot as plt\n",
    "from sklearn.decomposition import PCA\n",
    "X_pca = PCA(n_components=1).fit_transform(x)\n",
    "liner_model_2 = LinearRegression()\n",
    "X_pca_train , X_pca_test , y_pca_train , y_pca_test = train_test_split(X_pca , y , train_size=0.8 , random_state=1)\n",
    "liner_model_2.fit(X_pca_train , y_pca_train)\n",
    "y_pca_pred = liner_model_2.predict(X_pca_test)\n",
    "print('MSE:',mean_squared_error(y_pca_test , y_pca_pred))\n"
   ]
  },
  {
   "cell_type": "code",
   "execution_count": 27,
   "metadata": {},
   "outputs": [
    {
     "data": {
      "image/png": "[encoded data removed]",
      "text/plain": [
       "<Figure size 432x288 with 1 Axes>"
      ]
     },
     "metadata": {
      "needs_background": "light"
     },
     "output_type": "display_data"
    }
   ],
   "source": [
    "plt.scatter(X_pca_test , y_pca_test , c='b')\n",
    "plt.plot(X_pca_test , y_pca_pred ,color='red' , linewidth=3)\n",
    "plt.show()"
   ]
  },
  {
   "cell_type": "code",
   "execution_count": 55,
   "metadata": {},
   "outputs": [
    {
     "name": "stderr",
     "output_type": "stream",
     "text": [
      "/Users/eric/.conda/envs/store_project/lib/python3.7/site-packages/sklearn/linear_model/_logistic.py:765: ConvergenceWarning: lbfgs failed to converge (status=1):\n",
      "STOP: TOTAL NO. of ITERATIONS REACHED LIMIT.\n",
      "\n",
      "Increase the number of iterations (max_iter) or scale the data as shown in:\n",
      "    https://scikit-learn.org/stable/modules/preprocessing.html\n",
      "Please also refer to the documentation for alternative solver options:\n",
      "    https://scikit-learn.org/stable/modules/linear_model.html#logistic-regression\n",
      "  extra_warning_msg=_LOGISTIC_SOLVER_CONVERGENCE_MSG)\n"
     ]
    },
    {
     "data": {
      "text/plain": [
       "array([2, 1, 0, 1, 0, 2, 1, 0, 2, 1, 0, 1, 1, 0, 1, 1, 2, 0, 1, 0, 0, 1,\n",
       "       1, 1, 0, 2, 0, 0, 0, 2, 1, 2, 2, 0, 1, 1])"
      ]
     },
     "execution_count": 55,
     "metadata": {},
     "output_type": "execute_result"
    }
   ],
   "source": [
    "#LogisticRegression\n",
    "X = wine.data\n",
    "y = wine.target\n",
    "X_train , X_test , y_train , y_test = train_test_split(X , y , train_size=0.8 , random_state=1)\n",
    "lg_model = LogisticRegression(C=0.5)\n",
    "lg_model.fit(X_train , y_train )\n",
    "y_pred = lg_model.predict(X_test)\n",
    "y_pred"
   ]
  },
  {
   "cell_type": "code",
   "execution_count": 56,
   "metadata": {},
   "outputs": [
    {
     "data": {
      "text/plain": [
       "0.9444444444444444"
      ]
     },
     "execution_count": 56,
     "metadata": {},
     "output_type": "execute_result"
    }
   ],
   "source": [
    "accuracy_score(y_test , y_pred)"
   ]
  },
  {
   "cell_type": "code",
   "execution_count": 61,
   "metadata": {},
   "outputs": [
    {
     "data": {
      "text/plain": [
       "0.9442369540408757"
      ]
     },
     "execution_count": 61,
     "metadata": {},
     "output_type": "execute_result"
    }
   ],
   "source": [
    "f1_score(y_test , y_pred , average='macro')"
   ]
  },
  {
   "cell_type": "code",
   "execution_count": 72,
   "metadata": {},
   "outputs": [
    {
     "name": "stderr",
     "output_type": "stream",
     "text": [
      "/Users/eric/.conda/envs/store_project/lib/python3.7/site-packages/sklearn/linear_model/_logistic.py:765: ConvergenceWarning: lbfgs failed to converge (status=1):\n",
      "STOP: TOTAL NO. of ITERATIONS REACHED LIMIT.\n",
      "\n",
      "Increase the number of iterations (max_iter) or scale the data as shown in:\n",
      "    https://scikit-learn.org/stable/modules/preprocessing.html\n",
      "Please also refer to the documentation for alternative solver options:\n",
      "    https://scikit-learn.org/stable/modules/linear_model.html#logistic-regression\n",
      "  extra_warning_msg=_LOGISTIC_SOLVER_CONVERGENCE_MSG)\n"
     ]
    },
    {
     "data": {
      "text/plain": [
       "array([1, 0, 1, 0, 0, 0, 0, 0, 1, 1, 1, 0, 0, 1, 1, 1, 1, 1, 1, 0, 1, 1,\n",
       "       0, 1, 0, 1, 1, 0, 0, 0, 0, 1, 0, 0, 1, 1, 0, 1, 1, 1, 1, 1, 1, 1,\n",
       "       1, 0, 1, 1, 1, 0, 0, 0, 1, 1, 1, 1, 1, 0, 1, 1, 1, 0, 1, 0, 1, 1,\n",
       "       1, 0, 1, 1, 1, 1, 1, 0, 1, 0, 1, 1, 1, 0, 1, 0, 1, 0, 1, 1, 0, 1,\n",
       "       0, 1, 1, 0, 1, 1, 0, 0, 1, 1, 1, 1, 1, 1, 1, 1, 1, 1, 1, 1, 0, 0,\n",
       "       1, 1, 1, 1])"
      ]
     },
     "execution_count": 72,
     "metadata": {},
     "output_type": "execute_result"
    }
   ],
   "source": [
    "x = breast_cancer.data\n",
    "y = breast_cancer.target\n",
    "X_train , X_test , y_train , y_test = train_test_split(x , y , train_size=0.8 , random_state=1)\n",
    "lg_model = LogisticRegression(C=0.5)\n",
    "lg_model.fit(X_train , y_train )\n",
    "y_pred = lg_model.predict(X_test)\n",
    "y_pred"
   ]
  },
  {
   "cell_type": "code",
   "execution_count": 73,
   "metadata": {},
   "outputs": [
    {
     "data": {
      "text/plain": [
       "0.9473684210526315"
      ]
     },
     "execution_count": 73,
     "metadata": {},
     "output_type": "execute_result"
    }
   ],
   "source": [
    "accuracy_score(y_test , y_pred)"
   ]
  },
  {
   "cell_type": "code",
   "execution_count": 75,
   "metadata": {},
   "outputs": [
    {
     "data": {
      "text/plain": [
       "0.9594594594594595"
      ]
     },
     "execution_count": 75,
     "metadata": {},
     "output_type": "execute_result"
    }
   ],
   "source": [
    "f1_score(y_test , y_pred )"
   ]
  },
  {
   "cell_type": "code",
   "execution_count": 77,
   "metadata": {},
   "outputs": [
    {
     "data": {
      "text/plain": [
       "array([[3.09175840e-01, 6.90824160e-01],\n",
       "       [5.81088495e-01, 4.18911505e-01],\n",
       "       [5.49715551e-03, 9.94502844e-01],\n",
       "       [9.97240995e-01, 2.75900455e-03],\n",
       "       [7.69487668e-01, 2.30512332e-01],\n",
       "       [9.97345635e-01, 2.65436543e-03],\n",
       "       [9.99943215e-01, 5.67852268e-05],\n",
       "       [9.78568711e-01, 2.14312887e-02],\n",
       "       [1.00510539e-02, 9.89948946e-01],\n",
       "       [1.29976578e-02, 9.87002342e-01],\n",
       "       [1.52584204e-02, 9.84741580e-01],\n",
       "       [7.51224959e-01, 2.48775041e-01],\n",
       "       [8.69894207e-01, 1.30105793e-01],\n",
       "       [1.12002253e-02, 9.88799775e-01],\n",
       "       [2.18273780e-01, 7.81726220e-01],\n",
       "       [1.30777394e-01, 8.69222606e-01],\n",
       "       [2.68396408e-02, 9.73160359e-01],\n",
       "       [2.61081996e-02, 9.73891800e-01],\n",
       "       [4.01458174e-03, 9.95985418e-01],\n",
       "       [9.99996279e-01, 3.72059083e-06],\n",
       "       [8.60699673e-03, 9.91393003e-01],\n",
       "       [3.63494577e-02, 9.63650542e-01],\n",
       "       [9.96517286e-01, 3.48271367e-03],\n",
       "       [2.51639885e-02, 9.74836012e-01],\n",
       "       [9.10419805e-01, 8.95801948e-02],\n",
       "       [8.29380552e-02, 9.17061945e-01],\n",
       "       [6.18212705e-02, 9.38178730e-01],\n",
       "       [9.99996757e-01, 3.24319377e-06],\n",
       "       [1.00000000e+00, 3.44675554e-17],\n",
       "       [9.93213497e-01, 6.78650252e-03],\n",
       "       [9.99999999e-01, 1.43139708e-09],\n",
       "       [5.86160206e-03, 9.94138398e-01],\n",
       "       [9.99884226e-01, 1.15774319e-04],\n",
       "       [8.60176330e-01, 1.39823670e-01],\n",
       "       [1.42919684e-02, 9.85708032e-01],\n",
       "       [1.51607185e-02, 9.84839282e-01],\n",
       "       [9.96461177e-01, 3.53882329e-03],\n",
       "       [1.18172979e-01, 8.81827021e-01],\n",
       "       [4.09699712e-01, 5.90300288e-01],\n",
       "       [8.94590415e-03, 9.91054096e-01],\n",
       "       [3.18651067e-03, 9.96813489e-01],\n",
       "       [1.26474546e-01, 8.73525454e-01],\n",
       "       [6.89996980e-02, 9.31000302e-01],\n",
       "       [9.83027195e-03, 9.90169728e-01],\n",
       "       [3.22236733e-02, 9.67776327e-01],\n",
       "       [8.81805888e-01, 1.18194112e-01],\n",
       "       [1.94964396e-02, 9.80503560e-01],\n",
       "       [2.87674199e-03, 9.97123258e-01],\n",
       "       [1.39493066e-01, 8.60506934e-01],\n",
       "       [9.84222198e-01, 1.57778023e-02],\n",
       "       [9.99934611e-01, 6.53894447e-05],\n",
       "       [1.00000000e+00, 2.54258032e-13],\n",
       "       [4.95722412e-03, 9.95042776e-01],\n",
       "       [4.32206626e-03, 9.95677934e-01],\n",
       "       [1.43954195e-02, 9.85604581e-01],\n",
       "       [3.78102592e-02, 9.62189741e-01],\n",
       "       [1.02472709e-02, 9.89752729e-01],\n",
       "       [6.69330586e-01, 3.30669414e-01],\n",
       "       [1.53064027e-02, 9.84693597e-01],\n",
       "       [2.70255831e-03, 9.97297442e-01],\n",
       "       [4.71976017e-03, 9.95280240e-01],\n",
       "       [9.50153381e-01, 4.98466187e-02],\n",
       "       [1.32806913e-01, 8.67193087e-01],\n",
       "       [5.26867767e-01, 4.73132233e-01],\n",
       "       [9.29952787e-03, 9.90700472e-01],\n",
       "       [7.28250618e-02, 9.27174938e-01],\n",
       "       [3.62145965e-02, 9.63785403e-01],\n",
       "       [9.99999910e-01, 9.04979984e-08],\n",
       "       [5.06171435e-03, 9.94938286e-01],\n",
       "       [3.15685108e-02, 9.68431489e-01],\n",
       "       [1.65839127e-03, 9.98341609e-01],\n",
       "       [1.92651492e-03, 9.98073485e-01],\n",
       "       [4.09045391e-01, 5.90954609e-01],\n",
       "       [9.97272940e-01, 2.72706034e-03],\n",
       "       [4.11214329e-03, 9.95887857e-01],\n",
       "       [9.99999377e-01, 6.23074490e-07],\n",
       "       [4.60055887e-02, 9.53994411e-01],\n",
       "       [1.20014458e-01, 8.79985542e-01],\n",
       "       [7.09471185e-03, 9.92905288e-01],\n",
       "       [9.99150203e-01, 8.49797212e-04],\n",
       "       [4.41985956e-03, 9.95580140e-01],\n",
       "       [9.99987305e-01, 1.26952522e-05],\n",
       "       [1.06797614e-02, 9.89320239e-01],\n",
       "       [9.97237427e-01, 2.76257311e-03],\n",
       "       [5.91468818e-03, 9.94085312e-01],\n",
       "       [7.59726414e-03, 9.92402736e-01],\n",
       "       [6.96363288e-01, 3.03636712e-01],\n",
       "       [9.79588236e-02, 9.02041176e-01],\n",
       "       [9.93502434e-01, 6.49756623e-03],\n",
       "       [5.46372444e-03, 9.94536276e-01],\n",
       "       [3.31846527e-02, 9.66815347e-01],\n",
       "       [9.99572636e-01, 4.27364259e-04],\n",
       "       [7.60277680e-03, 9.92397223e-01],\n",
       "       [7.92533864e-04, 9.99207466e-01],\n",
       "       [9.99753871e-01, 2.46128954e-04],\n",
       "       [7.44053927e-01, 2.55946073e-01],\n",
       "       [1.58445507e-03, 9.98415545e-01],\n",
       "       [5.34814443e-02, 9.46518556e-01],\n",
       "       [4.28007743e-03, 9.95719923e-01],\n",
       "       [1.78472977e-02, 9.82152702e-01],\n",
       "       [7.00120877e-02, 9.29987912e-01],\n",
       "       [1.20529408e-02, 9.87947059e-01],\n",
       "       [6.21678080e-03, 9.93783219e-01],\n",
       "       [2.21211253e-01, 7.78788747e-01],\n",
       "       [4.83793758e-02, 9.51620624e-01],\n",
       "       [1.68289218e-02, 9.83171078e-01],\n",
       "       [2.38744323e-03, 9.97612557e-01],\n",
       "       [3.29419549e-03, 9.96705805e-01],\n",
       "       [9.58444023e-01, 4.15559772e-02],\n",
       "       [9.82148109e-01, 1.78518914e-02],\n",
       "       [2.26328763e-01, 7.73671237e-01],\n",
       "       [2.93794038e-02, 9.70620596e-01],\n",
       "       [3.71070149e-01, 6.28929851e-01],\n",
       "       [1.19350321e-02, 9.88064968e-01]])"
      ]
     },
     "execution_count": 77,
     "metadata": {},
     "output_type": "execute_result"
    }
   ],
   "source": [
    "yp = lg_model.predict_proba(X_test)\n",
    "yp"
   ]
  },
  {
   "cell_type": "code",
   "execution_count": 79,
   "metadata": {},
   "outputs": [
    {
     "data": {
      "text/plain": [
       "0.933531746031746"
      ]
     },
     "execution_count": 79,
     "metadata": {},
     "output_type": "execute_result"
    }
   ],
   "source": [
    "roc_auc_score(y_test , y_pred)"
   ]
  }
 ],
 "metadata": {
  "kernelspec": {
   "display_name": "Python 3 (ipykernel)",
   "language": "python",
   "name": "python3"
  },
  "language_info": {
   "codemirror_mode": {
    "name": "ipython",
    "version": 3
   },
   "file_extension": ".py",
   "mimetype": "text/x-python",
   "name": "python",
   "nbconvert_exporter": "python",
   "pygments_lexer": "ipython3",
   "version": "3.7.11"
  }
 },
 "nbformat": 4,
 "nbformat_minor": 2
}
